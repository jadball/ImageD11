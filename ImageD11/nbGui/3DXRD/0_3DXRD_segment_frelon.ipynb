{
 "cells": [
  {
   "cell_type": "markdown",
   "id": "8deabe5b",
   "metadata": {},
   "source": [
    "# Jupyter notebook based on ImageD11 to process 3DXRD data\n",
    "# Written by Haixing Fang, Jon Wright and James Ball\n",
    "## Date: 25/07/2024"
   ]
  },
  {
   "cell_type": "markdown",
   "id": "6835a47c-a552-4d1d-b605-1867dd631b2a",
   "metadata": {},
   "source": [
    "This notebook will help you to extract the locations of diffraction peaks on your detector images.\n",
    "\n",
    "It will also merge together your 2D spots (on a stack of detector images with different omega angles).\n",
    "\n",
    "We merge across omega because we often see the same spot twice on multiple detector images.\n",
    "\n",
    "The results are saved to the PROCESSED_DATA folder of the experiment, inside the sample and dataset folders that you select within this notebook\n",
    "\n",
    "## NOTE: These notebooks are under active development\n",
    "They require the latest version of ImageD11 from Git to run.\n",
    "\n",
    "If you don't have this set up yet, you can run the below cell.\n",
    "\n",
    "It will automatically download and install ImageD11 to your home directory"
   ]
  },
  {
   "cell_type": "code",
   "execution_count": null,
   "id": "2402147c-5513-4907-8ca9-76e3e252df0c",
   "metadata": {},
   "outputs": [],
   "source": [
    "exec(open('/data/id11/nanoscope/install_ImageD11_from_git.py').read())\n",
    "PYTHONPATH = setup_ImageD11_from_git( ) # ( os.path.join( os.environ['HOME'],'Code'), 'ImageD11_git' )"
   ]
  },
  {
   "cell_type": "code",
   "execution_count": null,
   "id": "9b5c1db6-5a32-4294-abef-cfc2150d24de",
   "metadata": {
    "tags": []
   },
   "outputs": [],
   "source": [
    "# import functions we need\n",
    "\n",
    "import glob, pprint\n",
    "\n",
    "import ImageD11.sinograms.dataset\n",
    "import ImageD11.sinograms.lima_segmenter\n",
    "import ImageD11.sinograms.assemble_label\n",
    "import ImageD11.sinograms.properties\n",
    "\n",
    "import numpy as np\n",
    "import fabio\n",
    "import matplotlib.pyplot as plt\n",
    "from matplotlib.colors import LogNorm\n",
    "from skimage import filters, measure, morphology\n",
    "import ipywidgets as widgets\n",
    "import h5py\n",
    "from IPython.display import display\n",
    "%matplotlib widget\n",
    "\n",
    "from ImageD11.nbGui import nb_utils as utils\n",
    "from ImageD11.nbGui import segmenter_gui\n",
    "\n",
    "from frelon_peaksearch import worker, process\n",
    "\n",
    "from ImageD11.blobcorrector import correct_cf_with_spline\n",
    "\n",
    "\n",
    "# Experts : update these files for your detector if you need to\n",
    "\n",
    "splinefile = '/data/id11/inhouse1/ewoks/detectors/files/Frelon2k_C36/frelon36.spline'\n",
    "bgfile = \"/data/visitor/ihma439/id11/20231211/PROCESSED_DATA/FeAu_0p5_tR/tdxrd_all/ff_bkg.edf\"\n",
    "maskfile = '/data/id11/inhouse1/ewoks/detectors/files/Frelon2k_C36/mask.edf'\n",
    "\n",
    "detector = \"frelon3\"\n",
    "omegamotor = \"diffrz\"\n",
    "dtymotor = \"diffty\"\n",
    "\n",
    "#Define the initial parameters\n",
    "options = {\n",
    "    \"bgfile\":bgfile,\n",
    "    \"maskfile\":maskfile,\n",
    "    \"threshold\":50,\n",
    "    \"smoothsigma\":1.0,\n",
    "    \"bgc\":0.9,\n",
    "    \"minpx\":3,\n",
    "    \"m_offset_thresh\":80,\n",
    "    \"m_ratio_thresh\":135,\n",
    "}"
   ]
  },
  {
   "cell_type": "code",
   "execution_count": null,
   "id": "5560db3e-720d-440e-954d-6dc313f6c460",
   "metadata": {
    "tags": []
   },
   "outputs": [],
   "source": [
    "# Set up the file paths. Edit this if you are not at ESRF or not using the latest data policy.\n",
    "dataroot, analysisroot = segmenter_gui.guess_ESRF_paths() \n",
    "\n",
    "if len(dataroot)==0:\n",
    "    print(\"Please fix in the dataroot and analysisroot folder names above!!\")\n",
    "print('dataroot =',repr(dataroot))\n",
    "print('analysisroot =',repr(analysisroot))"
   ]
  },
  {
   "cell_type": "code",
   "execution_count": null,
   "id": "de77981e-c3bf-4a29-8944-95286831ac34",
   "metadata": {
    "tags": []
   },
   "outputs": [],
   "source": [
    "# List the samples available:\n",
    "segmenter_gui.printsamples(dataroot)"
   ]
  },
  {
   "cell_type": "code",
   "execution_count": null,
   "id": "187950bd-18b5-4bd4-80da-2a0c7a984b11",
   "metadata": {
    "tags": []
   },
   "outputs": [],
   "source": [
    "# USER: Decide which sample\n",
    "sample = 'FeAu_0p5_tR'"
   ]
  },
  {
   "cell_type": "code",
   "execution_count": null,
   "id": "2b2a72fa-ff6d-4e45-89b7-fa64adb62214",
   "metadata": {
    "tags": []
   },
   "outputs": [],
   "source": [
    "# List the datasets for that sample:\n",
    "segmenter_gui.printdatasets( dataroot, sample )"
   ]
  },
  {
   "cell_type": "code",
   "execution_count": null,
   "id": "90e2aeb5-8893-4f0f-bf4f-de2c541a83df",
   "metadata": {
    "tags": []
   },
   "outputs": [],
   "source": [
    "# USER: Decide which dataset\n",
    "dataset = \"ff1\""
   ]
  },
  {
   "cell_type": "code",
   "execution_count": null,
   "id": "ad077c4b-39cc-4b90-9637-33c32f12e364",
   "metadata": {
    "tags": []
   },
   "outputs": [],
   "source": [
    "# create ImageD11 dataset object\n",
    "\n",
    "ds = ImageD11.sinograms.dataset.DataSet(dataroot=dataroot,\n",
    "                                        analysisroot=analysisroot,\n",
    "                                        sample=sample,\n",
    "                                        dset=dataset,\n",
    "                                        detector=detector,\n",
    "                                        omegamotor=omegamotor,\n",
    "                                        dtymotor=dtymotor)\n",
    "ds.import_all(scans=[\"1.1\"])\n",
    "ds.splinefile = splinefile\n",
    "ds.maskfile = maskfile\n",
    "ds.bgfile = bgfile\n",
    "ds.save()"
   ]
  },
  {
   "cell_type": "code",
   "execution_count": null,
   "id": "68b22a6a-9325-40f4-af9d-945c0187ffae",
   "metadata": {
    "tags": []
   },
   "outputs": [],
   "source": [
    "ui = segmenter_gui.FrelonSegmenterGui(ds, worker, process, **options)"
   ]
  },
  {
   "cell_type": "code",
   "execution_count": null,
   "id": "eee00548-3a48-44d0-b4ad-e71b71de95ca",
   "metadata": {
    "tags": []
   },
   "outputs": [],
   "source": [
    "options = ui.getopts()"
   ]
  },
  {
   "cell_type": "code",
   "execution_count": null,
   "id": "5a1795a9-16eb-430d-a246-a26b12c35e77",
   "metadata": {
    "tags": []
   },
   "outputs": [],
   "source": [
    "# now we run the segmenter on all our data\n",
    "\n",
    "nthreads = len(os.sched_getaffinity(os.getpid()))\n",
    "\n",
    "cf_2d, cf_3d = process(ds, nthreads-1, options)"
   ]
  },
  {
   "cell_type": "code",
   "execution_count": null,
   "id": "daccc72e-0aae-4332-80b0-e9ed894056e9",
   "metadata": {
    "tags": []
   },
   "outputs": [],
   "source": [
    "# we can use this to verify that the 3D merging is behaving as expected\n",
    "# don't worry about this too much!\n",
    "\n",
    "# take a few 3d peaks with the most 2d peaks, plot them\n",
    "\n",
    "unique, counts = np.unique(cf_2d.spot3d_id, return_counts=True)\n",
    "hits_dict = dict(zip(unique, counts))\n",
    "hits_dict_max = sorted(hits_dict.items(), key=lambda x: x[1], reverse=True)\n",
    "\n",
    "m = np.isin(cf_3d.index, [spot3d_id for spot3d_id, count in hits_dict_max[500:501]])\n",
    "cf_3d_single_peak = cf_3d.copy()\n",
    "cf_3d_single_peak.filter(m)\n",
    "\n",
    "peak_2d_mask = np.isin(cf_2d.spot3d_id, cf_3d_single_peak.index)\n",
    "cf_2d_peaks = cf_2d.copy()\n",
    "cf_2d_peaks.filter(peak_2d_mask)\n",
    "\n",
    "fig, ax = plt.subplots()\n",
    "ax.scatter(cf_3d_single_peak.f_raw, cf_3d_single_peak.s_raw, marker=\"X\", c=cf_3d_single_peak.omega, s=50, label='Merged 3D peak')\n",
    "cols = ax.scatter(cf_2d_peaks.f_raw, cf_2d_peaks.s_raw, c=cf_2d_peaks.o_raw, s=cf_2d_peaks.s_I / 1000, label='Contibutory 2D peaks')\n",
    "fig.colorbar(cols)\n",
    "ax.set_xlim(0, 2048)\n",
    "ax.set_ylim(0, 2048)\n",
    "ax.invert_yaxis()\n",
    "ax.legend()\n",
    "ax.set_title(\"Color is omega of peak. Scaled by sum intensity\")\n",
    "ax.set_xlabel(\"f_raw\")\n",
    "ax.set_ylabel(\"s_raw\")\n",
    "plt.show()"
   ]
  },
  {
   "cell_type": "code",
   "execution_count": null,
   "id": "88fe5554-8b0a-4c17-a2a1-02536e476c42",
   "metadata": {
    "tags": []
   },
   "outputs": [],
   "source": [
    "cf_2d = correct_cf_with_spline(cf_2d, splinefile)"
   ]
  },
  {
   "cell_type": "code",
   "execution_count": null,
   "id": "e10d2350-e9f6-419a-a69d-07b575a9e8ae",
   "metadata": {
    "tags": []
   },
   "outputs": [],
   "source": [
    "cf_3d = correct_cf_with_spline(cf_3d, splinefile)"
   ]
  },
  {
   "cell_type": "code",
   "execution_count": null,
   "id": "c71ebf96-3bbe-46a2-aa27-30a7a0a2c9f2",
   "metadata": {
    "tags": []
   },
   "outputs": [],
   "source": [
    "parfile = os.path.join(ds.analysisroot, 'Fe_tdxrd_refined.par')"
   ]
  },
  {
   "cell_type": "code",
   "execution_count": null,
   "id": "197e8418-030b-4901-8e8f-9f8b1df7c017",
   "metadata": {
    "tags": []
   },
   "outputs": [],
   "source": [
    "cf_2d.parameters.loadparameters(parfile)\n",
    "\n",
    "cf_2d.updateGeometry()\n",
    "ImageD11.columnfile.colfile_to_hdf(cf_2d, ds.col2dfile)"
   ]
  },
  {
   "cell_type": "code",
   "execution_count": null,
   "id": "d44b9da8-f533-4295-9453-dc2dffd0a774",
   "metadata": {
    "tags": []
   },
   "outputs": [],
   "source": [
    "cf_3d.parameters.loadparameters(parfile)\n",
    "cf_3d.updateGeometry()\n",
    "ImageD11.columnfile.colfile_to_hdf(cf_3d, ds.col3dfile)"
   ]
  },
  {
   "cell_type": "code",
   "execution_count": null,
   "id": "7085183c-1991-49b3-af09-abe119542166",
   "metadata": {
    "tags": []
   },
   "outputs": [],
   "source": [
    "ds.parfile = parfile\n",
    "ds.save()"
   ]
  },
  {
   "cell_type": "code",
   "execution_count": null,
   "id": "148fb053-420b-4534-ba48-9e6a67e7a746",
   "metadata": {},
   "outputs": [],
   "source": [
    "# change to 0 to allow all cells to be run automatically\n",
    "if 1:\n",
    "    raise ValueError(\"Hello!\")"
   ]
  },
  {
   "cell_type": "code",
   "execution_count": null,
   "id": "ac6a298f-1405-4d90-b677-7a29c04de67e",
   "metadata": {},
   "outputs": [],
   "source": [
    "# Now that weparfile happy with our indexing parameters, we can run the below cell to do this in bulk for many samples/datasets\n",
    "# by default this will do all samples in sample_list, all datasets with a prefix of dset_prefix\n",
    "# you can add samples and datasets to skip in skips_dict\n",
    "\n",
    "skips_dict = {\n",
    "    \"FeAu_0p5_tR\": []\n",
    "}\n",
    "\n",
    "dset_prefix = \"ff\"\n",
    "\n",
    "sample_list = [\"FeAu_0p5_tR\"]\n",
    "    \n",
    "samples_dict = utils.find_datasets_to_process(ds.dataroot, skips_dict, dset_prefix, sample_list)\n",
    "    \n",
    "# manual override:\n",
    "# samples_dict = {\"FeAu_0p5_tR_nscope\": [\"top_100um\", \"top_200um\"]}\n",
    "\n",
    "nthreads = len(os.sched_getaffinity(os.getpid()))\n",
    "\n",
    "for sample, datasets in samples_dict.items():\n",
    "    for dataset in datasets:\n",
    "        print(f\"Processing dataset {dataset} in sample {sample}\")\n",
    "        print(\"Importing DataSet object\")\n",
    "        ds = ImageD11.sinograms.dataset.DataSet(dataroot=ds.dataroot,\n",
    "                                            analysisroot=ds.analysisroot,\n",
    "                                            sample=sample,\n",
    "                                            dset=dataset,\n",
    "                                            detector=detector,\n",
    "                                            omegamotor=omegamotor,\n",
    "                                            dtymotor=dtymotor)\n",
    "        \n",
    "        if os.path.exists(ds.col2dfile):\n",
    "            print(f\"Found existing cf_2d for {dataset} in {sample}, skipping\")\n",
    "            continue\n",
    "        \n",
    "        ds.import_all(scans=[\"1.1\"])\n",
    "        print(f\"I have a DataSet {ds.dset} in sample {ds.sample}\")\n",
    "        ds.save()\n",
    "        \n",
    "        ds.splinefile = splinefile\n",
    "        ds.maskfile = maskfile\n",
    "        ds.bgfile = bgfile\n",
    "\n",
    "        print(\"Peaksearching\")\n",
    "        cf_2d, cf_3d = process(ds, nthreads-1, options)\n",
    "        \n",
    "        print(\"Spatially correcting peaks\")\n",
    "        cf_2d = correct_cf_with_spline(cf_2d, splinefile)\n",
    "        cf_3d = correct_cf_with_spline(cf_3d, splinefile)\n",
    "        \n",
    "        print(\"Saving peaks to file\")\n",
    "        cf_2d.parameters.loadparameters(parfile)\n",
    "\n",
    "        cf_2d.updateGeometry()\n",
    "        ImageD11.columnfile.colfile_to_hdf(cf_2d, ds.col2dfile)\n",
    "        \n",
    "        cf_3d.parameters.loadparameters(parfile)\n",
    "        cf_3d.updateGeometry()\n",
    "        ImageD11.columnfile.colfile_to_hdf(cf_3d, ds.col3dfile)\n",
    "        \n",
    "        ds.parfile = parfile\n",
    "        ds.save()"
   ]
  },
  {
   "cell_type": "code",
   "execution_count": null,
   "id": "ab892957-5ce7-4f04-a01c-c04cc9a2715c",
   "metadata": {},
   "outputs": [],
   "source": []
  }
 ],
 "metadata": {
  "kernelspec": {
   "display_name": "Python 3 (main)",
   "language": "python",
   "name": "python3"
  },
  "language_info": {
   "codemirror_mode": {
    "name": "ipython",
    "version": 3
   },
   "file_extension": ".py",
   "mimetype": "text/x-python",
   "name": "python",
   "nbconvert_exporter": "python",
   "pygments_lexer": "ipython3",
   "version": "3.11.6"
  }
 },
 "nbformat": 4,
 "nbformat_minor": 5
}
