{
 "cells": [
  {
   "cell_type": "code",
   "execution_count": null,
   "metadata": {
    "tags": []
   },
   "outputs": [],
   "source": [
    "exec(open('/data/id11/nanoscope/install_ImageD11_from_git.py').read())\n",
    "PYTHONPATH = setup_ImageD11_from_git( ) # ( os.path.join( os.environ['HOME'],'Code'), 'ImageD11_git' )"
   ]
  },
  {
   "cell_type": "code",
   "execution_count": null,
   "metadata": {
    "tags": []
   },
   "outputs": [],
   "source": [
    "from matplotlib import pyplot as plt\n",
    "import numpy as np\n",
    "\n",
    "import scipy.ndimage as ndi\n",
    "\n",
    "from ImageD11.nbGui import nb_utils as utils\n",
    "import ImageD11.sinograms.dataset\n",
    "import numba\n",
    "\n",
    "from ImageD11.grain import grain\n",
    "from ImageD11 import unitcell\n",
    "%matplotlib ipympl"
   ]
  },
  {
   "cell_type": "code",
   "execution_count": null,
   "metadata": {
    "tags": []
   },
   "outputs": [],
   "source": [
    "# USER: Pass path to dataset file\n",
    "\n",
    "dset_file = 'si_cube_test/processed/Si_cube/Si_cube_S3DXRD_nt_moves_dty/Si_cube_S3DXRD_nt_moves_dty_dataset.h5'\n",
    "\n",
    "ds = ImageD11.sinograms.dataset.load(dset_file)\n",
    "\n",
    "sample = ds.sample\n",
    "dataset = ds.dsname\n",
    "rawdata_path = ds.dataroot\n",
    "processed_data_root_dir = ds.analysisroot\n",
    "\n",
    "print(ds)\n",
    "print(ds.shape)"
   ]
  },
  {
   "cell_type": "code",
   "execution_count": null,
   "metadata": {
    "tags": []
   },
   "outputs": [],
   "source": [
    "# define your reference unit cell for RGB colour plotting\n",
    "\n",
    "cf_2d = ds.get_cf_2d_from_disk()\n",
    "cf_2d.parameters.loadparameters(ds.parfile)\n",
    "\n",
    "cf_pars = cf_2d.parameters.get_parameters()\n",
    "\n",
    "ref_ucell = ImageD11.unitcell.unitcell_from_parameters(cf_pars)"
   ]
  },
  {
   "cell_type": "code",
   "execution_count": null,
   "metadata": {
    "tags": []
   },
   "outputs": [],
   "source": [
    "class pbpmap:\n",
    "    def __init__(self, fname):\n",
    "        pbp_array = np.loadtxt(fname).T\n",
    "        n = len(pbp_array[0])\n",
    "        self.i = pbp_array[0].astype(int)\n",
    "        self.i -= self.i.min()\n",
    "        self.j = pbp_array[1].astype(int) \n",
    "        self.j -= self.j.min()\n",
    "        self.n = pbp_array[2].astype(int)         # total peaks indexing with hkl==int with 0.03\n",
    "        self.u = pbp_array[3].astype(int)         # unique (h,k,l) labels on indexed peaks\n",
    "        self.NI = int(self.i.max() - self.i.min()) + 1\n",
    "        self.NJ = int(self.j.max() - self.j.min()) + 1\n",
    "        self.NY = max(self.NI,self.NJ)\n",
    "        self.ubi = pbp_array[4:].astype(float)\n",
    "        self.ubi.shape = 3,3,-1\n",
    "        \n",
    "    def choose_best(self, minpeaks=6):\n",
    "        self.muniq, self.npks, self.ubibest = nb_choose_best( \n",
    "            self.i, self.j, \n",
    "            self.u, self.n, \n",
    "            self.NY, self.ubi, minpeaks)\n",
    "    \n",
    "@numba.njit\n",
    "def nb_choose_best(i, j, u, n, NY, ubiar,\n",
    "                minpeaks=6):\n",
    "    # map of the unique scores\n",
    "    uniq = np.ones((NY,NY), dtype='q')\n",
    "    uniq.fill(minpeaks) # peak cutorr\n",
    "    npk = np.zeros((NY,NY), dtype='q')\n",
    "    ubi = np.zeros((NY,NY,3,3), dtype='d')\n",
    "    ubi.fill(np.nan)\n",
    "    for k in range(i.size):\n",
    "        ip = i[k]\n",
    "        jp = j[k]\n",
    "#        if ip == 96 and jp == 510:\n",
    "#            print(ip,jp,k, ubiar[:,:,k])\n",
    "        if u[k] > uniq[ip,jp]:\n",
    "            uniq[ip,jp] = u[k]\n",
    "            npk[ip,jp] = n[k]\n",
    "            for ii in range(3):\n",
    "                for jj in range(3):          \n",
    "                    ubi[ip,jp,ii,jj] = ubiar[ii,jj,k]\n",
    "    return uniq, npk, ubi\n",
    "\n",
    "def nb_inv(mats, imats):\n",
    "    for i in range(mats.shape[0]):\n",
    "        for j in range(mats.shape[1]):\n",
    "            if np.isnan( mats[i,j,0,0] ):\n",
    "                imats[i,j] = np.nan\n",
    "            else:\n",
    "                try:\n",
    "                    imats[i,j] = np.linalg.inv( mats[i,j] )\n",
    "                except:\n",
    "                    print(i,j,mats[i,j])\n",
    "                    break\n",
    "                    imats[i,j] = 42."
   ]
  },
  {
   "cell_type": "code",
   "execution_count": null,
   "metadata": {
    "tags": []
   },
   "outputs": [],
   "source": [
    "pbpfile = os.path.join(ds.analysispath, ds.dsname + '_pbp.txt')\n",
    "\n",
    "pmap = pbpmap(pbpfile)"
   ]
  },
  {
   "cell_type": "code",
   "execution_count": null,
   "metadata": {
    "tags": []
   },
   "outputs": [],
   "source": [
    "fig, ax = plt.subplots()\n",
    "ax.hist(pmap.u, bins=np.arange(0.5,np.max(pmap.u)+0.51,1))\n",
    "ax.set_xlabel('Unique spots per pixel')\n",
    "ax.set_ylabel('Count')\n",
    "plt.show()"
   ]
  },
  {
   "cell_type": "code",
   "execution_count": null,
   "metadata": {
    "tags": []
   },
   "outputs": [],
   "source": [
    "pmap.choose_best(30)"
   ]
  },
  {
   "cell_type": "code",
   "execution_count": null,
   "metadata": {
    "tags": []
   },
   "outputs": [],
   "source": [
    "pmap.ubbest = np.zeros_like(pmap.ubibest)\n",
    "nb_inv(pmap.ubibest, pmap.ubbest)\n",
    "\n",
    "plot_mask = ~np.isnan(pmap.ubbest[:,:,0,0])\n",
    "plot_mask.shape\n",
    "\n",
    "pmap.ubplot = pmap.ubbest[plot_mask]"
   ]
  },
  {
   "cell_type": "code",
   "execution_count": null,
   "metadata": {
    "tags": []
   },
   "outputs": [],
   "source": [
    "# get a meta orientation for all the grains\n",
    "pmap.meta_orien = ref_ucell.get_orix_orien(pmap.ubplot)\n",
    "\n",
    "try:\n",
    "    from orix.vector.vector3d import Vector3d\n",
    "except ImportError:\n",
    "    raise ImportError(\"Missing diffpy and/or orix, can't compute orix phase!\")\n",
    "\n",
    "axis = np.array([1., 0, 0])\n",
    "ipf_direction = Vector3d(axis)\n",
    "\n",
    "# get the RGB colours\n",
    "pmap.rgb_x = ref_ucell.get_ipf_colour_from_orix_orien(pmap.meta_orien, axis=ipf_direction)\n",
    "pmap.meta_orien.scatter(\"ipf\", c=pmap.rgb_x, direction=ipf_direction, s=1)\n",
    "\n",
    "axis = np.array([0., 1., 0])\n",
    "ipf_direction = Vector3d(axis)\n",
    "pmap.rgb_y = ref_ucell.get_ipf_colour_from_orix_orien(pmap.meta_orien, axis=ipf_direction)\n",
    "pmap.meta_orien.scatter(\"ipf\", c=pmap.rgb_y, direction=ipf_direction, s=1)\n",
    "\n",
    "axis = np.array([0., 0., 1.])\n",
    "ipf_direction = Vector3d(axis)\n",
    "pmap.rgb_z = ref_ucell.get_ipf_colour_from_orix_orien(pmap.meta_orien, axis=ipf_direction)\n",
    "pmap.meta_orien.scatter(\"ipf\", c=pmap.rgb_z, direction=ipf_direction, s=1)"
   ]
  },
  {
   "cell_type": "code",
   "execution_count": null,
   "metadata": {
    "tags": []
   },
   "outputs": [],
   "source": [
    "# Fill some arrays with the colours\n",
    "\n",
    "inds = np.mgrid[0:pmap.NY*pmap.NY][plot_mask.ravel()]\n",
    "rgb = np.zeros( (3, pmap.NY,pmap.NY, 3 ))\n",
    "rgb.shape = 3, -1, 3\n",
    "rgb.fill(np.nan)\n",
    "for k, axis in enumerate( ((1,0,0),(0,1,0),(0,0,1)) ):\n",
    "    rgb[k, inds] = ref_ucell.get_ipf_colour( pmap.ubplot, axis )\n",
    "rgb.shape = 3, pmap.NY, pmap.NY, 3"
   ]
  },
  {
   "cell_type": "code",
   "execution_count": null,
   "metadata": {
    "tags": []
   },
   "outputs": [],
   "source": [
    "fig, a = plt.subplots(2,2,sharex=True,sharey=True, figsize=(10,10), constrained_layout=True)\n",
    "a[0][0].imshow(rgb[0], origin=\"lower\")\n",
    "a[0][0].set_title(\"IPF X\")\n",
    "a[0][1].imshow(rgb[1], origin=\"lower\")\n",
    "a[0][1].set_title(\"IPF Y\")\n",
    "a[1][0].imshow(rgb[2], origin=\"lower\")\n",
    "a[1][0].set_title(\"IPF Z\")\n",
    "r = pmap.muniq/pmap.muniq.max()\n",
    "m = r > 0.02\n",
    "a[1][1].imshow(np.where(m, r, np.nan), origin=\"lower\")\n",
    "a[1][1].set_title(\"Number of peaks\")\n",
    "# for ax in a.ravel():\n",
    "#     ax.set(yticks=[], xticks=[])\n",
    "#     ax.invert_yaxis()\n",
    "\n",
    "plt.show()"
   ]
  },
  {
   "cell_type": "code",
   "execution_count": null,
   "metadata": {},
   "outputs": [],
   "source": []
  },
  {
   "cell_type": "code",
   "execution_count": null,
   "metadata": {},
   "outputs": [],
   "source": []
  },
  {
   "cell_type": "code",
   "execution_count": null,
   "metadata": {},
   "outputs": [],
   "source": []
  }
 ],
 "metadata": {
  "kernelspec": {
   "display_name": "Python 3 (main)",
   "language": "python",
   "name": "python3"
  },
  "language_info": {
   "codemirror_mode": {
    "name": "ipython",
    "version": 3
   },
   "file_extension": ".py",
   "mimetype": "text/x-python",
   "name": "python",
   "nbconvert_exporter": "python",
   "pygments_lexer": "ipython3",
   "version": "3.11.6"
  }
 },
 "nbformat": 4,
 "nbformat_minor": 4
}
