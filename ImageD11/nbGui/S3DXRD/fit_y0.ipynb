{
 "cells": [
  {
   "cell_type": "markdown",
   "metadata": {},
   "source": [
    "# Friedel Pair Mapping notebook\n",
    "\n",
    "The idea behind this is similar to the idea in DCT and here https://doi.org/10.1107/S1600576724009634, where Friedel pairs are used to locate where diffraction spots come from in space. In those cases we use peaks that are 180 degrees apart. This notebook is looking for peaks that are separated by twotheta. These are the peaks we use in the friedel_rois macro at ID11 that aligns grains on the centre of rotation.\n",
    "\n",
    "The pairs we use will have:\n",
    "- eta -> -eta\n",
    "- tth -> tth\n",
    "- gve -> -gve\n",
    "\n",
    "Jon Wright. March 2025.\n"
   ]
  },
  {
   "cell_type": "code",
   "execution_count": null,
   "metadata": {},
   "outputs": [],
   "source": [
    "exec(open('/data/id11/nanoscope/install_ImageD11_from_git.py').read())"
   ]
  },
  {
   "cell_type": "code",
   "execution_count": null,
   "metadata": {
    "tags": []
   },
   "outputs": [],
   "source": [
    "PYTHONPATH = setup_ImageD11_from_git()\n",
    "\n",
    "dset_path = 'si_cube_test/processed/Si_cube/Si_cube_S3DXRD_nt_moves_dty/Si_cube_S3DXRD_nt_moves_dty_dataset.h5'\n",
    "\n",
    "y0_guess = 0.0\n",
    "gvtol = 0.002     # value is often OK"
   ]
  },
  {
   "cell_type": "code",
   "execution_count": null,
   "metadata": {
    "tags": []
   },
   "outputs": [],
   "source": [
    "import numpy as np\n",
    "import matplotlib.pyplot as plt\n",
    "import scipy.spatial\n",
    "import ImageD11.sinograms.dataset\n",
    "from tqdm.autonotebook import tqdm\n",
    "from scipy.optimize import curve_fit\n",
    "\n",
    "%matplotlib ipympl"
   ]
  },
  {
   "cell_type": "code",
   "execution_count": null,
   "metadata": {
    "tags": []
   },
   "outputs": [],
   "source": [
    "ds = ImageD11.sinograms.dataset.load(dset_path)\n",
    "print(ds)"
   ]
  },
  {
   "cell_type": "code",
   "execution_count": null,
   "metadata": {
    "tags": []
   },
   "outputs": [],
   "source": [
    "cf_4d = ds.get_cf_4d()\n",
    "ds.update_colfile_pars(cf_4d)\n",
    "print(cf_4d.nrows/1e6, \"million peaks read in\")"
   ]
  },
  {
   "cell_type": "code",
   "execution_count": null,
   "metadata": {
    "tags": []
   },
   "outputs": [],
   "source": [
    "def find_pairs_minus_eta( cf, gvtol = 0.002 ):\n",
    "    \"\"\"\n",
    "    Locate Friedel pairs with eta -> -eta and g -> -g\n",
    "    returns ip, im  == indices for eta+ and eta- pairs\n",
    "    \"\"\"\n",
    "    # select peaks from left or right of detector\n",
    "    fp = np.mgrid[0:cf.nrows][cf_4d.eta > 0 ]\n",
    "    fm = np.mgrid[0:cf.nrows][cf_4d.eta < 0 ]\n",
    "    # gvector arrays of these peaks,  make into KD trees\n",
    "    kdp = scipy.spatial.cKDTree(  np.transpose( (cf.gx[fp], cf.gy[fp], cf.gz[fp]) ) )\n",
    "    kdm = scipy.spatial.cKDTree( -np.transpose( (cf.gx[fm], cf.gy[fm], cf.gz[fm]) ) )\n",
    "    # Find the pairs\n",
    "    coo = kdp.sparse_distance_matrix( kdm, gvtol, output_type = 'coo_matrix' )\n",
    "    # Return the indices in the original cf_4d\n",
    "    return fp[coo.row], fm[coo.col]\n",
    "\n",
    "def locate_pairs( cf, pairs, y0 = 0. ):\n",
    "    \"\"\"\n",
    "    Fit the centre of mass position of the pairs\n",
    "    cf = colfile\n",
    "    pairs = (ip, im) = indices of low, high pair in cf\n",
    "    \n",
    "    Returns sx, sy == sample x and y co-ordinates of the peak-pair\n",
    "    \"\"\"\n",
    "    ip, im = pairs\n",
    "    r = np.radians(cf.omega )\n",
    "    so = np.sin(r)\n",
    "    co = np.cos(r)\n",
    "    # For each paired peak take dty - y0 == observed dty value\n",
    "    y = np.transpose((cf.dty[ip]-y0, cf.dty[im]-y0 ))\n",
    "    # Find the 2x2 matrix for fitting the dty position (-,-) in geometry notebook\n",
    "    R = np.transpose( (( -so[ip], -co[ip] ),\n",
    "                       ( -so[im], -co[im] )), axes=(2,0,1))\n",
    "    # Solve for x,y in the sample co-ordinates\n",
    "    return np.linalg.solve( R, y ).T"
   ]
  },
  {
   "cell_type": "markdown",
   "metadata": {},
   "source": [
    "The next cell is locating the Friedel pairs. It seems to need about 1 second per million peaks."
   ]
  },
  {
   "cell_type": "code",
   "execution_count": null,
   "metadata": {
    "tags": []
   },
   "outputs": [],
   "source": [
    "ip, im = find_pairs_minus_eta( cf_4d, gvtol=gvtol )\n",
    "print('Got',len(ip),'pairs from',cf_4d.nrows,'peaks, fraction paired =',len(ip)*2/cf_4d.nrows )"
   ]
  },
  {
   "cell_type": "markdown",
   "metadata": {},
   "source": [
    "Now fit the positions with the y0 guess. Should be faster than finding the pairs."
   ]
  },
  {
   "cell_type": "code",
   "execution_count": null,
   "metadata": {
    "tags": []
   },
   "outputs": [],
   "source": [
    "sx, sy = locate_pairs( cf_4d, (ip,im), y0 = y0_guess )\n",
    "hist_guess = np.histogram2d(sx, sy, bins=ds.ybinedges)[0]"
   ]
  },
  {
   "cell_type": "code",
   "execution_count": null,
   "metadata": {},
   "outputs": [],
   "source": [
    "fig, ax = plt.subplots(layout='constrained', figsize=(8,8))\n",
    "ax.pcolormesh(ds.ybinedges, ds.ybinedges, hist_guess)\n",
    "ax.set_aspect(1)\n",
    "ax.set(title=f'y0 guess: {y0_guess}', xlabel='Sample Y axis -->', ylabel='Sample X axis -->')\n",
    "plt.show()"
   ]
  },
  {
   "cell_type": "code",
   "execution_count": null,
   "metadata": {},
   "outputs": [],
   "source": [
    "# now we try this with a range of y0 guesses, and look for peaks in the standard deviation"
   ]
  },
  {
   "cell_type": "code",
   "execution_count": null,
   "metadata": {},
   "outputs": [],
   "source": [
    "# guess += 5 from y0_guess, you can change this as needed\n",
    "y0_min = y0_guess - 5\n",
    "y0_max = y0_guess + 5\n",
    "n_y0 = 200\n",
    "y0s = np.linspace(y0_min, y0_max, n_y0)"
   ]
  },
  {
   "cell_type": "code",
   "execution_count": null,
   "metadata": {},
   "outputs": [],
   "source": [
    "hists = np.array([np.histogram2d(*(locate_pairs( cf_4d, (ip,im), y0=y0)), bins=ds.ybinedges)[0] for y0 in tqdm(y0s)])"
   ]
  },
  {
   "cell_type": "code",
   "execution_count": null,
   "metadata": {},
   "outputs": [],
   "source": [
    "stdevs = np.std(hists, axis=(1, 2))\n",
    "maxs = np.max(hists, axis=(1, 2))"
   ]
  },
  {
   "cell_type": "code",
   "execution_count": null,
   "metadata": {},
   "outputs": [],
   "source": [
    "fig, ax = plt.subplots()\n",
    "ax.plot(y0s, stdevs, label='stdev')\n",
    "ax2 = ax.twinx()\n",
    "ax2.plot(y0s, maxs, color='r', label='max')\n",
    "fig.legend()\n",
    "ax.set(xlabel='y0', ylabel='stdev')\n",
    "ax2.set(ylabel='max')\n",
    "plt.show()"
   ]
  },
  {
   "cell_type": "code",
   "execution_count": null,
   "metadata": {},
   "outputs": [],
   "source": [
    "# def Gauss(x, C, A, mu, sigma):\n",
    "#     return C + A*np.exp(-(x-mu)**2/(2.*sigma**2))\n",
    "\n",
    "# def Cauchy(x, x0, gamma, height, amp):\n",
    "#     return height + amp * (1/(np.pi * gamma * (1 + ((x-x0)/gamma)**2)))\n",
    "\n",
    "def Laplace(x, b, mu, height, amp):\n",
    "    return height + (amp/(2*b)) * np.exp(-(np.abs(x-mu)/b))"
   ]
  },
  {
   "cell_type": "code",
   "execution_count": null,
   "metadata": {},
   "outputs": [],
   "source": [
    "# Cauchy fit\n",
    "\n",
    "# p0_C = [y0s[np.argmax(stdevs)], 1, np.max(stdevs), 1]\n",
    "# print(p0_C)\n",
    "# bounds_C = ([-np.inf, 0, -np.inf, 0], [np.inf, np.inf, np.inf, np.inf])\n",
    "# parameters_C, _ = curve_fit(Cauchy, y0s, stdevs, method='trf', bounds=bounds_C, p0=p0_C)\n",
    "# fit_y_cauchy = Cauchy(y0s, *parameters_C)\n",
    "# print(parameters_C)\n",
    "# y0_cauchy = parameters_C[0]\n",
    "# print(y0_cauchy)"
   ]
  },
  {
   "cell_type": "code",
   "execution_count": null,
   "metadata": {},
   "outputs": [],
   "source": [
    "# laplace fit\n",
    "\n",
    "p0_L = [1, y0s[np.argmax(stdevs)], np.max(stdevs), 1]\n",
    "print(p0_L)\n",
    "bounds_L= ([-np.inf, -np.inf, -np.inf, 0], [np.inf, np.inf, np.inf, np.inf])\n",
    "parameters_L, _ = curve_fit(Laplace, y0s, stdevs, method='trf', bounds=bounds_L, p0=p0_L)\n",
    "fit_y_laplace = Laplace(y0s, *parameters_L)\n",
    "print(parameters_L)\n",
    "y0_laplace = parameters_L[1]\n",
    "print(y0_laplace)"
   ]
  },
  {
   "cell_type": "code",
   "execution_count": null,
   "metadata": {},
   "outputs": [],
   "source": [
    "fig, ax = plt.subplots()\n",
    "ax.plot(y0s, stdevs, label='stdevs')\n",
    "# ax.plot(y0s, fit_y_cauchy, label='Cauchy fit')\n",
    "ax.plot(y0s, fit_y_laplace, label='Laplace fit')\n",
    "ax.axvline(y0_laplace, color='red')\n",
    "ax.legend()\n",
    "ax.set(xlabel='y0', ylabel='stdev', title='Fits of stdev')\n",
    "plt.show()"
   ]
  },
  {
   "cell_type": "code",
   "execution_count": null,
   "metadata": {},
   "outputs": [],
   "source": [
    "# take the results of the Laplace fit:\n",
    "y0_final = y0_laplace\n",
    "# just take the max value:\n",
    "# y0_final = y0s[np.argmax(stdevs)]\n",
    "# or manually override from your interpretation of the plot:\n",
    "# y0_final = 0\n",
    "print(y0_final)"
   ]
  },
  {
   "cell_type": "code",
   "execution_count": null,
   "metadata": {},
   "outputs": [],
   "source": [
    "sx, sy = locate_pairs( cf_4d, (ip,im), y0 = y0_final )\n",
    "hist_final = np.histogram2d(sx, sy, bins=ds.ybinedges)[0]"
   ]
  },
  {
   "cell_type": "code",
   "execution_count": null,
   "metadata": {},
   "outputs": [],
   "source": [
    "fig, ax = plt.subplots(layout='constrained', figsize=(8,8))\n",
    "ax.pcolormesh(ds.ybinedges, ds.ybinedges, hist_final)\n",
    "ax.set_aspect(1)\n",
    "ax.set(title=f'y0 final: {y0_final}', xlabel='Sample Y axis -->', ylabel='Sample X axis -->')\n",
    "plt.show()"
   ]
  },
  {
   "cell_type": "code",
   "execution_count": null,
   "metadata": {},
   "outputs": [],
   "source": [
    "fig, axs = plt.subplots(1, 2, layout='constrained', figsize=(12,6), sharex=True, sharey=True)\n",
    "axs[0].pcolormesh(ds.ybinedges, ds.ybinedges, hist_guess)\n",
    "axs[0].set_aspect(1)\n",
    "axs[0].set(title=f'y0 guess: {y0_guess}')\n",
    "axs[1].pcolormesh(ds.ybinedges, ds.ybinedges, hist_final)\n",
    "axs[1].set_aspect(1)\n",
    "axs[1].set(title=f'y0 final: {y0_final}')\n",
    "fig.supxlabel('Sample Y axis -->')\n",
    "fig.supylabel('Sample X axis -->')\n",
    "plt.show()"
   ]
  },
  {
   "cell_type": "code",
   "execution_count": null,
   "metadata": {},
   "outputs": [],
   "source": []
  }
 ],
 "metadata": {
  "kernelspec": {
   "display_name": "Python 3 (main)",
   "language": "python",
   "name": "python3"
  },
  "language_info": {
   "codemirror_mode": {
    "name": "ipython",
    "version": 3
   },
   "file_extension": ".py",
   "mimetype": "text/x-python",
   "name": "python",
   "nbconvert_exporter": "python",
   "pygments_lexer": "ipython3",
   "version": "3.12.9"
  },
  "widgets": {
   "application/vnd.jupyter.widget-state+json": {
    "state": {},
    "version_major": 2,
    "version_minor": 0
   }
  }
 },
 "nbformat": 4,
 "nbformat_minor": 4
}
